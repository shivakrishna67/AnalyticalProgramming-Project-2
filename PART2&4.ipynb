{
 "cells": [
  {
   "cell_type": "code",
   "execution_count": 1,
   "metadata": {
    "colab": {
     "base_uri": "https://localhost:8080/"
    },
    "id": "sRNYt-ml6hPA",
    "outputId": "c8e97b55-2374-4578-a7e2-7b1b0a5b8fe2"
   },
   "outputs": [
    {
     "name": "stdout",
     "output_type": "stream",
     "text": [
      "Collecting newsapi-python\n",
      "  Downloading newsapi_python-0.2.7-py2.py3-none-any.whl (7.9 kB)\n",
      "Requirement already satisfied: requests<3.0.0 in /usr/local/lib/python3.10/dist-packages (from newsapi-python) (2.31.0)\n",
      "Requirement already satisfied: charset-normalizer<4,>=2 in /usr/local/lib/python3.10/dist-packages (from requests<3.0.0->newsapi-python) (3.3.2)\n",
      "Requirement already satisfied: idna<4,>=2.5 in /usr/local/lib/python3.10/dist-packages (from requests<3.0.0->newsapi-python) (3.4)\n",
      "Requirement already satisfied: urllib3<3,>=1.21.1 in /usr/local/lib/python3.10/dist-packages (from requests<3.0.0->newsapi-python) (2.0.7)\n",
      "Requirement already satisfied: certifi>=2017.4.17 in /usr/local/lib/python3.10/dist-packages (from requests<3.0.0->newsapi-python) (2023.7.22)\n",
      "Installing collected packages: newsapi-python\n",
      "Successfully installed newsapi-python-0.2.7\n"
     ]
    }
   ],
   "source": [
    "pip install newsapi-python"
   ]
  },
  {
   "cell_type": "code",
   "execution_count": 37,
   "metadata": {
    "colab": {
     "base_uri": "https://localhost:8080/",
     "height": 206
    },
    "id": "tJhbuEzSAZBy",
    "outputId": "e654e505-e6ef-4933-975c-5c471e9027bd"
   },
   "outputs": [
    {
     "data": {
      "text/html": [
       "\n",
       "  <div id=\"df-cb772b3b-5217-4688-9c54-56ef6f1e1158\" class=\"colab-df-container\">\n",
       "    <div>\n",
       "<style scoped>\n",
       "    .dataframe tbody tr th:only-of-type {\n",
       "        vertical-align: middle;\n",
       "    }\n",
       "\n",
       "    .dataframe tbody tr th {\n",
       "        vertical-align: top;\n",
       "    }\n",
       "\n",
       "    .dataframe thead th {\n",
       "        text-align: right;\n",
       "    }\n",
       "</style>\n",
       "<table border=\"1\" class=\"dataframe\">\n",
       "  <thead>\n",
       "    <tr style=\"text-align: right;\">\n",
       "      <th></th>\n",
       "      <th>id</th>\n",
       "      <th>name</th>\n",
       "      <th>description</th>\n",
       "      <th>url</th>\n",
       "      <th>category</th>\n",
       "      <th>language</th>\n",
       "      <th>country</th>\n",
       "    </tr>\n",
       "  </thead>\n",
       "  <tbody>\n",
       "    <tr>\n",
       "      <th>0</th>\n",
       "      <td>abc-news</td>\n",
       "      <td>ABC News</td>\n",
       "      <td>Your trusted source for breaking news, analysi...</td>\n",
       "      <td>https://abcnews.go.com</td>\n",
       "      <td>general</td>\n",
       "      <td>en</td>\n",
       "      <td>us</td>\n",
       "    </tr>\n",
       "    <tr>\n",
       "      <th>1</th>\n",
       "      <td>abc-news-au</td>\n",
       "      <td>ABC News (AU)</td>\n",
       "      <td>Australia's most trusted source of local, nati...</td>\n",
       "      <td>http://www.abc.net.au/news</td>\n",
       "      <td>general</td>\n",
       "      <td>en</td>\n",
       "      <td>au</td>\n",
       "    </tr>\n",
       "    <tr>\n",
       "      <th>2</th>\n",
       "      <td>aftenposten</td>\n",
       "      <td>Aftenposten</td>\n",
       "      <td>Norges ledende nettavis med alltid oppdaterte ...</td>\n",
       "      <td>https://www.aftenposten.no</td>\n",
       "      <td>general</td>\n",
       "      <td>no</td>\n",
       "      <td>no</td>\n",
       "    </tr>\n",
       "    <tr>\n",
       "      <th>3</th>\n",
       "      <td>al-jazeera-english</td>\n",
       "      <td>Al Jazeera English</td>\n",
       "      <td>News, analysis from the Middle East and worldw...</td>\n",
       "      <td>http://www.aljazeera.com</td>\n",
       "      <td>general</td>\n",
       "      <td>en</td>\n",
       "      <td>us</td>\n",
       "    </tr>\n",
       "    <tr>\n",
       "      <th>4</th>\n",
       "      <td>ansa</td>\n",
       "      <td>ANSA.it</td>\n",
       "      <td>Agenzia ANSA: ultime notizie, foto, video e ap...</td>\n",
       "      <td>http://www.ansa.it</td>\n",
       "      <td>general</td>\n",
       "      <td>it</td>\n",
       "      <td>it</td>\n",
       "    </tr>\n",
       "  </tbody>\n",
       "</table>\n",
       "</div>\n",
       "    <div class=\"colab-df-buttons\">\n",
       "\n",
       "  <div class=\"colab-df-container\">\n",
       "    <button class=\"colab-df-convert\" onclick=\"convertToInteractive('df-cb772b3b-5217-4688-9c54-56ef6f1e1158')\"\n",
       "            title=\"Convert this dataframe to an interactive table.\"\n",
       "            style=\"display:none;\">\n",
       "\n",
       "  <svg xmlns=\"http://www.w3.org/2000/svg\" height=\"24px\" viewBox=\"0 -960 960 960\">\n",
       "    <path d=\"M120-120v-720h720v720H120Zm60-500h600v-160H180v160Zm220 220h160v-160H400v160Zm0 220h160v-160H400v160ZM180-400h160v-160H180v160Zm440 0h160v-160H620v160ZM180-180h160v-160H180v160Zm440 0h160v-160H620v160Z\"/>\n",
       "  </svg>\n",
       "    </button>\n",
       "\n",
       "  <style>\n",
       "    .colab-df-container {\n",
       "      display:flex;\n",
       "      gap: 12px;\n",
       "    }\n",
       "\n",
       "    .colab-df-convert {\n",
       "      background-color: #E8F0FE;\n",
       "      border: none;\n",
       "      border-radius: 50%;\n",
       "      cursor: pointer;\n",
       "      display: none;\n",
       "      fill: #1967D2;\n",
       "      height: 32px;\n",
       "      padding: 0 0 0 0;\n",
       "      width: 32px;\n",
       "    }\n",
       "\n",
       "    .colab-df-convert:hover {\n",
       "      background-color: #E2EBFA;\n",
       "      box-shadow: 0px 1px 2px rgba(60, 64, 67, 0.3), 0px 1px 3px 1px rgba(60, 64, 67, 0.15);\n",
       "      fill: #174EA6;\n",
       "    }\n",
       "\n",
       "    .colab-df-buttons div {\n",
       "      margin-bottom: 4px;\n",
       "    }\n",
       "\n",
       "    [theme=dark] .colab-df-convert {\n",
       "      background-color: #3B4455;\n",
       "      fill: #D2E3FC;\n",
       "    }\n",
       "\n",
       "    [theme=dark] .colab-df-convert:hover {\n",
       "      background-color: #434B5C;\n",
       "      box-shadow: 0px 1px 3px 1px rgba(0, 0, 0, 0.15);\n",
       "      filter: drop-shadow(0px 1px 2px rgba(0, 0, 0, 0.3));\n",
       "      fill: #FFFFFF;\n",
       "    }\n",
       "  </style>\n",
       "\n",
       "    <script>\n",
       "      const buttonEl =\n",
       "        document.querySelector('#df-cb772b3b-5217-4688-9c54-56ef6f1e1158 button.colab-df-convert');\n",
       "      buttonEl.style.display =\n",
       "        google.colab.kernel.accessAllowed ? 'block' : 'none';\n",
       "\n",
       "      async function convertToInteractive(key) {\n",
       "        const element = document.querySelector('#df-cb772b3b-5217-4688-9c54-56ef6f1e1158');\n",
       "        const dataTable =\n",
       "          await google.colab.kernel.invokeFunction('convertToInteractive',\n",
       "                                                    [key], {});\n",
       "        if (!dataTable) return;\n",
       "\n",
       "        const docLinkHtml = 'Like what you see? Visit the ' +\n",
       "          '<a target=\"_blank\" href=https://colab.research.google.com/notebooks/data_table.ipynb>data table notebook</a>'\n",
       "          + ' to learn more about interactive tables.';\n",
       "        element.innerHTML = '';\n",
       "        dataTable['output_type'] = 'display_data';\n",
       "        await google.colab.output.renderOutput(dataTable, element);\n",
       "        const docLink = document.createElement('div');\n",
       "        docLink.innerHTML = docLinkHtml;\n",
       "        element.appendChild(docLink);\n",
       "      }\n",
       "    </script>\n",
       "  </div>\n",
       "\n",
       "\n",
       "<div id=\"df-a96fe3e3-6622-4cac-b0e6-aa758be662b7\">\n",
       "  <button class=\"colab-df-quickchart\" onclick=\"quickchart('df-a96fe3e3-6622-4cac-b0e6-aa758be662b7')\"\n",
       "            title=\"Suggest charts\"\n",
       "            style=\"display:none;\">\n",
       "\n",
       "<svg xmlns=\"http://www.w3.org/2000/svg\" height=\"24px\"viewBox=\"0 0 24 24\"\n",
       "     width=\"24px\">\n",
       "    <g>\n",
       "        <path d=\"M19 3H5c-1.1 0-2 .9-2 2v14c0 1.1.9 2 2 2h14c1.1 0 2-.9 2-2V5c0-1.1-.9-2-2-2zM9 17H7v-7h2v7zm4 0h-2V7h2v10zm4 0h-2v-4h2v4z\"/>\n",
       "    </g>\n",
       "</svg>\n",
       "  </button>\n",
       "\n",
       "<style>\n",
       "  .colab-df-quickchart {\n",
       "      --bg-color: #E8F0FE;\n",
       "      --fill-color: #1967D2;\n",
       "      --hover-bg-color: #E2EBFA;\n",
       "      --hover-fill-color: #174EA6;\n",
       "      --disabled-fill-color: #AAA;\n",
       "      --disabled-bg-color: #DDD;\n",
       "  }\n",
       "\n",
       "  [theme=dark] .colab-df-quickchart {\n",
       "      --bg-color: #3B4455;\n",
       "      --fill-color: #D2E3FC;\n",
       "      --hover-bg-color: #434B5C;\n",
       "      --hover-fill-color: #FFFFFF;\n",
       "      --disabled-bg-color: #3B4455;\n",
       "      --disabled-fill-color: #666;\n",
       "  }\n",
       "\n",
       "  .colab-df-quickchart {\n",
       "    background-color: var(--bg-color);\n",
       "    border: none;\n",
       "    border-radius: 50%;\n",
       "    cursor: pointer;\n",
       "    display: none;\n",
       "    fill: var(--fill-color);\n",
       "    height: 32px;\n",
       "    padding: 0;\n",
       "    width: 32px;\n",
       "  }\n",
       "\n",
       "  .colab-df-quickchart:hover {\n",
       "    background-color: var(--hover-bg-color);\n",
       "    box-shadow: 0 1px 2px rgba(60, 64, 67, 0.3), 0 1px 3px 1px rgba(60, 64, 67, 0.15);\n",
       "    fill: var(--button-hover-fill-color);\n",
       "  }\n",
       "\n",
       "  .colab-df-quickchart-complete:disabled,\n",
       "  .colab-df-quickchart-complete:disabled:hover {\n",
       "    background-color: var(--disabled-bg-color);\n",
       "    fill: var(--disabled-fill-color);\n",
       "    box-shadow: none;\n",
       "  }\n",
       "\n",
       "  .colab-df-spinner {\n",
       "    border: 2px solid var(--fill-color);\n",
       "    border-color: transparent;\n",
       "    border-bottom-color: var(--fill-color);\n",
       "    animation:\n",
       "      spin 1s steps(1) infinite;\n",
       "  }\n",
       "\n",
       "  @keyframes spin {\n",
       "    0% {\n",
       "      border-color: transparent;\n",
       "      border-bottom-color: var(--fill-color);\n",
       "      border-left-color: var(--fill-color);\n",
       "    }\n",
       "    20% {\n",
       "      border-color: transparent;\n",
       "      border-left-color: var(--fill-color);\n",
       "      border-top-color: var(--fill-color);\n",
       "    }\n",
       "    30% {\n",
       "      border-color: transparent;\n",
       "      border-left-color: var(--fill-color);\n",
       "      border-top-color: var(--fill-color);\n",
       "      border-right-color: var(--fill-color);\n",
       "    }\n",
       "    40% {\n",
       "      border-color: transparent;\n",
       "      border-right-color: var(--fill-color);\n",
       "      border-top-color: var(--fill-color);\n",
       "    }\n",
       "    60% {\n",
       "      border-color: transparent;\n",
       "      border-right-color: var(--fill-color);\n",
       "    }\n",
       "    80% {\n",
       "      border-color: transparent;\n",
       "      border-right-color: var(--fill-color);\n",
       "      border-bottom-color: var(--fill-color);\n",
       "    }\n",
       "    90% {\n",
       "      border-color: transparent;\n",
       "      border-bottom-color: var(--fill-color);\n",
       "    }\n",
       "  }\n",
       "</style>\n",
       "\n",
       "  <script>\n",
       "    async function quickchart(key) {\n",
       "      const quickchartButtonEl =\n",
       "        document.querySelector('#' + key + ' button');\n",
       "      quickchartButtonEl.disabled = true;  // To prevent multiple clicks.\n",
       "      quickchartButtonEl.classList.add('colab-df-spinner');\n",
       "      try {\n",
       "        const charts = await google.colab.kernel.invokeFunction(\n",
       "            'suggestCharts', [key], {});\n",
       "      } catch (error) {\n",
       "        console.error('Error during call to suggestCharts:', error);\n",
       "      }\n",
       "      quickchartButtonEl.classList.remove('colab-df-spinner');\n",
       "      quickchartButtonEl.classList.add('colab-df-quickchart-complete');\n",
       "    }\n",
       "    (() => {\n",
       "      let quickchartButtonEl =\n",
       "        document.querySelector('#df-a96fe3e3-6622-4cac-b0e6-aa758be662b7 button');\n",
       "      quickchartButtonEl.style.display =\n",
       "        google.colab.kernel.accessAllowed ? 'block' : 'none';\n",
       "    })();\n",
       "  </script>\n",
       "</div>\n",
       "    </div>\n",
       "  </div>\n"
      ],
      "text/plain": [
       "                   id                name  \\\n",
       "0            abc-news            ABC News   \n",
       "1         abc-news-au       ABC News (AU)   \n",
       "2         aftenposten         Aftenposten   \n",
       "3  al-jazeera-english  Al Jazeera English   \n",
       "4                ansa             ANSA.it   \n",
       "\n",
       "                                         description  \\\n",
       "0  Your trusted source for breaking news, analysi...   \n",
       "1  Australia's most trusted source of local, nati...   \n",
       "2  Norges ledende nettavis med alltid oppdaterte ...   \n",
       "3  News, analysis from the Middle East and worldw...   \n",
       "4  Agenzia ANSA: ultime notizie, foto, video e ap...   \n",
       "\n",
       "                          url category language country  \n",
       "0      https://abcnews.go.com  general       en      us  \n",
       "1  http://www.abc.net.au/news  general       en      au  \n",
       "2  https://www.aftenposten.no  general       no      no  \n",
       "3    http://www.aljazeera.com  general       en      us  \n",
       "4          http://www.ansa.it  general       it      it  "
      ]
     },
     "execution_count": 37,
     "metadata": {},
     "output_type": "execute_result"
    }
   ],
   "source": [
    "from newsapi import NewsApiClient\n",
    "import pandas as pd\n",
    "\n",
    "\n",
    "class NewsApi:\n",
    "\n",
    "  def __init__(self):\n",
    "    # initialize news api\n",
    "    self.newsapi = NewsApiClient(api_key='a148c40805264d4a9646cd368dd20508')\n",
    "\n",
    "  def getTopHeadLines(self): # used to get the top head lines for bitcoins\n",
    "    self.top_headlines = self.newsapi.get_top_headlines(q='bitcoin',\n",
    "                                          category='business',\n",
    "                                          language='en',\n",
    "                                          country='us')\n",
    "\n",
    "  def getAllArticles(self): # used to get the articles related to bitcoins from sources bbc-news, the verge in range 10/21 to 11/01\n",
    "    self.all_articles = self.newsapi.get_everything(q='bitcoin',\n",
    "                                      sources='bbc-news,the-verge',\n",
    "                                      domains='bbc.co.uk,techcrunch.com',\n",
    "                                      from_param='2023-10-21',\n",
    "                                      to='2023-11-01',\n",
    "                                      language='en',\n",
    "                                      sort_by='relevancy',\n",
    "                                      page=2)\n",
    "\n",
    "  def getSources(self): # get the data for the latest status regarding the bitcoins from bbc news in range of 10/21 to 11/01\n",
    "    self.sources = self.newsapi.get_sources()\n",
    "\n",
    "  def getDatatoDF(self): # converting the requested data into data frame\n",
    "    self.getTopHeadLines()\n",
    "    self.getAllArticles()\n",
    "    self.getSources()\n",
    "\n",
    "    sources_data = self.sources['sources']\n",
    "    # Convert the list of dictionaries into a DataFrame\n",
    "    df_sources = pd.DataFrame(sources_data)\n",
    "\n",
    "    return df_sources\n",
    "\n",
    "news_api = NewsApi()\n",
    "news_df = news_api.getDatatoDF()\n",
    "news_df.head()"
   ]
  },
  {
   "cell_type": "code",
   "execution_count": 38,
   "metadata": {
    "colab": {
     "base_uri": "https://localhost:8080/"
    },
    "id": "xAHAQ48RL21p",
    "outputId": "6d7a7085-ddcb-454d-b59e-eca0df248f4b"
   },
   "outputs": [
    {
     "data": {
      "text/plain": [
       "general          75\n",
       "business         14\n",
       "technology       14\n",
       "sports           13\n",
       "entertainment     8\n",
       "science           3\n",
       "health            1\n",
       "Name: category, dtype: int64"
      ]
     },
     "execution_count": 38,
     "metadata": {},
     "output_type": "execute_result"
    }
   ],
   "source": [
    "news_df['category'].value_counts()"
   ]
  },
  {
   "cell_type": "markdown",
   "metadata": {
    "id": "OgTpeBGnEe1-"
   },
   "source": [
    "Here, I have used the NewsAPIClient module to proceed towards the collection of the data. I have used the inbuilt module functionality to collect the data for the daily trending news over the world based analysis. Here, we can see, I have total of 7 different attributes: <br>\n",
    "Id: Identification number of the news <br>\n",
    "name: Channel of the news name<br>\n",
    "description: content of the news thats been broadcasted<br>\n",
    "url: url link for the data, where we can find the detailed description <br>\n",
    "category: Type of content thats been broadcasted, such as general, business, technology, sports, entertainment etc. <br>\n",
    "language: As the news is over the world, it can be of different languages <br>\n",
    "country: country from where its been broad casted the news.<br>\n",
    "Some of the questions, I would like to use this, on which topic, most of the channels trending towards broadcasting its news? (which can be find out through the help of entities or topic based analysis) Also which channel is mostly broadcasting the news on daily based analysis."
   ]
  },
  {
   "cell_type": "markdown",
   "metadata": {
    "id": "uoNmTadhU-YF"
   },
   "source": [
    "### PART 4: Data Analysis"
   ]
  },
  {
   "cell_type": "code",
   "execution_count": 39,
   "metadata": {
    "colab": {
     "base_uri": "https://localhost:8080/"
    },
    "id": "VCHJS_3gAZFT",
    "outputId": "30753dc0-0eb5-4ae0-dd28-5abd9d1aae26"
   },
   "outputs": [
    {
     "data": {
      "text/plain": [
       "(128, 7)"
      ]
     },
     "execution_count": 39,
     "metadata": {},
     "output_type": "execute_result"
    }
   ],
   "source": [
    "import numpy as np\n",
    "\n",
    "news_df.shape"
   ]
  },
  {
   "cell_type": "code",
   "execution_count": 40,
   "metadata": {
    "colab": {
     "base_uri": "https://localhost:8080/"
    },
    "id": "Lz9v8P4oVItI",
    "outputId": "afe3687f-a261-45ff-937f-57583e5d9fbe"
   },
   "outputs": [
    {
     "name": "stdout",
     "output_type": "stream",
     "text": [
      "<class 'pandas.core.frame.DataFrame'>\n",
      "RangeIndex: 128 entries, 0 to 127\n",
      "Data columns (total 7 columns):\n",
      " #   Column       Non-Null Count  Dtype \n",
      "---  ------       --------------  ----- \n",
      " 0   id           128 non-null    object\n",
      " 1   name         128 non-null    object\n",
      " 2   description  128 non-null    object\n",
      " 3   url          128 non-null    object\n",
      " 4   category     128 non-null    object\n",
      " 5   language     128 non-null    object\n",
      " 6   country      128 non-null    object\n",
      "dtypes: object(7)\n",
      "memory usage: 7.1+ KB\n"
     ]
    }
   ],
   "source": [
    "news_df.info()"
   ]
  },
  {
   "cell_type": "code",
   "execution_count": 42,
   "metadata": {
    "colab": {
     "base_uri": "https://localhost:8080/"
    },
    "id": "9jqPleAeVLEB",
    "outputId": "a0c0a51e-2783-422e-99f4-afd9653c8e64"
   },
   "outputs": [
    {
     "data": {
      "text/plain": [
       "ABC News           1\n",
       "ABC News (AU)      1\n",
       "RT                 1\n",
       "Reuters            1\n",
       "Reddit /r/all      1\n",
       "                  ..\n",
       "FourFourTwo        1\n",
       "Fortune            1\n",
       "Football Italia    1\n",
       "Focus              1\n",
       "Ynet               1\n",
       "Name: name, Length: 128, dtype: int64"
      ]
     },
     "execution_count": 42,
     "metadata": {},
     "output_type": "execute_result"
    }
   ],
   "source": [
    "news_df['name'].value_counts()"
   ]
  },
  {
   "cell_type": "code",
   "execution_count": 43,
   "metadata": {
    "colab": {
     "base_uri": "https://localhost:8080/"
    },
    "id": "NS5ap7EoVaI_",
    "outputId": "48f89f05-27af-472d-e754-836cab84ded1"
   },
   "outputs": [
    {
     "data": {
      "text/plain": [
       "abc-news           1\n",
       "abc-news-au        1\n",
       "rt                 1\n",
       "reuters            1\n",
       "reddit-r-all       1\n",
       "                  ..\n",
       "four-four-two      1\n",
       "fortune            1\n",
       "football-italia    1\n",
       "focus              1\n",
       "ynet               1\n",
       "Name: id, Length: 128, dtype: int64"
      ]
     },
     "execution_count": 43,
     "metadata": {},
     "output_type": "execute_result"
    }
   ],
   "source": [
    "news_df['id'].value_counts()"
   ]
  },
  {
   "cell_type": "code",
   "execution_count": 44,
   "metadata": {
    "colab": {
     "base_uri": "https://localhost:8080/"
    },
    "id": "uen9gdNEVhUQ",
    "outputId": "5a76f817-6dc9-4c0e-c1ee-14c9b6a3ed62"
   },
   "outputs": [
    {
     "data": {
      "text/plain": [
       "general          75\n",
       "business         14\n",
       "technology       14\n",
       "sports           13\n",
       "entertainment     8\n",
       "science           3\n",
       "health            1\n",
       "Name: category, dtype: int64"
      ]
     },
     "execution_count": 44,
     "metadata": {},
     "output_type": "execute_result"
    }
   ],
   "source": [
    "news_df['category'].value_counts()"
   ]
  },
  {
   "cell_type": "code",
   "execution_count": 45,
   "metadata": {
    "colab": {
     "base_uri": "https://localhost:8080/"
    },
    "id": "P7kjeOf8V1R0",
    "outputId": "2f537d2f-1e13-4521-dcc5-284dfd8c35b2"
   },
   "outputs": [
    {
     "data": {
      "text/plain": [
       "Index(['general', 'business', 'technology', 'sports', 'entertainment',\n",
       "       'science', 'health'],\n",
       "      dtype='object')"
      ]
     },
     "execution_count": 45,
     "metadata": {},
     "output_type": "execute_result"
    }
   ],
   "source": [
    "news_df['category'].value_counts().keys()"
   ]
  },
  {
   "cell_type": "code",
   "execution_count": 46,
   "metadata": {
    "colab": {
     "base_uri": "https://localhost:8080/"
    },
    "id": "HHdkYv1fV2aQ",
    "outputId": "aad8a243-7ff2-4d4f-da85-4007ed927544"
   },
   "outputs": [
    {
     "data": {
      "text/plain": [
       "array([75, 14, 14, 13,  8,  3,  1])"
      ]
     },
     "execution_count": 46,
     "metadata": {},
     "output_type": "execute_result"
    }
   ],
   "source": [
    "news_df['category'].value_counts().values"
   ]
  },
  {
   "cell_type": "code",
   "execution_count": 48,
   "metadata": {
    "colab": {
     "base_uri": "https://localhost:8080/",
     "height": 472
    },
    "id": "W95xTK2VVnbS",
    "outputId": "d222d90e-d25b-47a2-8d65-e7de8e17ad61"
   },
   "outputs": [
    {
     "data": {
      "image/png": "[encoded data removed]",
      "text/plain": [
       "<Figure size 640x480 with 1 Axes>"
      ]
     },
     "metadata": {},
     "output_type": "display_data"
    }
   ],
   "source": [
    "import matplotlib.pyplot as plt\n",
    "\n",
    "def create_bar_chart_category():\n",
    "    \"\"\"\n",
    "    Create a bar chart for object data.\n",
    "\n",
    "    Parameters:\n",
    "    - data: A dictionary where keys represent categories and values represent corresponding counts.\n",
    "\n",
    "    Example:\n",
    "    data = {'Category1': 20, 'Category2': 35, 'Category3': 15}\n",
    "    create_bar_chart(data)\n",
    "    \"\"\"\n",
    "    categories = list(news_df['category'].value_counts().keys())\n",
    "    values = list(news_df['category'].value_counts().values)\n",
    "\n",
    "    plt.bar(categories, values, color='skyblue')\n",
    "    plt.xlabel('Categories')\n",
    "    plt.ylabel('Counts')\n",
    "    plt.title('Bar Chart for Object Data')\n",
    "    plt.show()\n",
    "\n",
    "create_bar_chart_category()\n"
   ]
  },
  {
   "cell_type": "markdown",
   "metadata": {
    "id": "qb95T1k8WHVr"
   },
   "source": [
    "Here, in the above image, we can see that, mostly general kind of news is been broad casted, than others. Folllowed by business related issues thats been on daily based data, coming towards technology, it also been equal towards the business related activities over the analysis. Coming towards the next category, sports on daily analysis, is not much been broad casted as there are no sports activities on going in current period. At last, we can see the less number of broad cast activity or trending topic is health, which is so less, which means, there are no much health related activity going on, which means, everyone in cities and countries been doing well."
   ]
  },
  {
   "cell_type": "code",
   "execution_count": 49,
   "metadata": {
    "colab": {
     "base_uri": "https://localhost:8080/",
     "height": 472
    },
    "id": "9rODJQYAWFIh",
    "outputId": "21aaeff2-8e32-4ea8-d731-86ac9a47452c"
   },
   "outputs": [
    {
     "data": {
      "image/png": "[encoded data removed]",
      "text/plain": [
       "<Figure size 640x480 with 1 Axes>"
      ]
     },
     "metadata": {},
     "output_type": "display_data"
    }
   ],
   "source": [
    "import matplotlib.pyplot as plt\n",
    "\n",
    "def create_bar_chart_country():\n",
    "    \"\"\"\n",
    "    Create a bar chart for object data.\n",
    "\n",
    "    Parameters:\n",
    "    - data: A dictionary where keys represent categories and values represent corresponding counts.\n",
    "\n",
    "    Example:\n",
    "    data = {'Category1': 20, 'Category2': 35, 'Category3': 15}\n",
    "    create_bar_chart(data)\n",
    "    \"\"\"\n",
    "    categories = list(news_df['country'].value_counts().keys())\n",
    "    values = list(news_df['country'].value_counts().values)\n",
    "\n",
    "    plt.bar(categories, values, color='skyblue')\n",
    "    plt.xlabel('Country')\n",
    "    plt.ylabel('Counts')\n",
    "    plt.title('Bar Chart for Object Data')\n",
    "    plt.show()\n",
    "\n",
    "create_bar_chart_country()\n"
   ]
  },
  {
   "cell_type": "markdown",
   "metadata": {
    "id": "tp67jK4KXR0p"
   },
   "source": [
    "From the above data analysis bar chart, we can observe that, most number of broad casts has been done from the usa(united states of america), which is more than 60% per day, which means, most number of activities or trends been done in the usa compared to other countries. Followed by gb, which is united kingdom and de, which is germany has 10% of activities been done. Then followed by it, which is italy and fr for france done by 8% of their activities, and then last we can see that, za(south africa) and nl(netherlands) has been least broadcasted countries, which is over 1% of activity."
   ]
  },
  {
   "cell_type": "code",
   "execution_count": 51,
   "metadata": {
    "colab": {
     "base_uri": "https://localhost:8080/"
    },
    "id": "TJFrbjfGXQTq",
    "outputId": "4693cd8d-4ef0-4da9-915e-a6f1b95932bd"
   },
   "outputs": [
    {
     "data": {
      "text/plain": [
       "id             0\n",
       "name           0\n",
       "description    0\n",
       "url            0\n",
       "category       0\n",
       "language       0\n",
       "country        0\n",
       "dtype: int64"
      ]
     },
     "execution_count": 51,
     "metadata": {},
     "output_type": "execute_result"
    }
   ],
   "source": [
    "news_df.isna().sum() # No missing values"
   ]
  },
  {
   "cell_type": "code",
   "execution_count": 55,
   "metadata": {
    "id": "_Q5Oi5L4ZtLa"
   },
   "outputs": [],
   "source": [
    "tokens = {}\n",
    "for data in news_df['name'].values:\n",
    "  vals = data.split()[0]\n",
    "  # for val in vals:\n",
    "  if vals in tokens:\n",
    "    tokens[vals] = tokens[vals]+1\n",
    "  else:\n",
    "    tokens[vals] = 1"
   ]
  },
  {
   "cell_type": "code",
   "execution_count": 66,
   "metadata": {
    "colab": {
     "base_uri": "https://localhost:8080/"
    },
    "id": "vt55sBvfbMFg",
    "outputId": "e10a6d15-934d-4c06-97bb-8cf988b7ee3b"
   },
   "outputs": [
    {
     "data": {
      "text/plain": [
       "{'The': 15,\n",
       " 'Google': 12,\n",
       " 'La': 3,\n",
       " 'ABC': 2,\n",
       " 'BBC': 2,\n",
       " 'Business': 2,\n",
       " 'CNN': 2,\n",
       " 'ESPN': 2,\n",
       " 'Fox': 2,\n",
       " 'MTV': 2}"
      ]
     },
     "execution_count": 66,
     "metadata": {},
     "output_type": "execute_result"
    }
   ],
   "source": [
    "sorted_data = dict(sorted(tokens.items(), key=lambda item: item[1], reverse=True))\n",
    "top_10_data = dict(list(sorted_data.items())[:10])\n",
    "top_10_data"
   ]
  },
  {
   "cell_type": "code",
   "execution_count": 67,
   "metadata": {
    "colab": {
     "base_uri": "https://localhost:8080/",
     "height": 472
    },
    "id": "Al6c_-B7aOPC",
    "outputId": "55e72dc7-df02-43ad-ee9c-d33fcfef3af5"
   },
   "outputs": [
    {
     "data": {
      "image/png": "[encoded data removed]",
      "text/plain": [
       "<Figure size 640x480 with 1 Axes>"
      ]
     },
     "metadata": {},
     "output_type": "display_data"
    }
   ],
   "source": [
    "import matplotlib.pyplot as plt\n",
    "\n",
    "def create_bar_chart_channel():\n",
    "    \"\"\"\n",
    "    Create a bar chart for object data.\n",
    "\n",
    "    Parameters:\n",
    "    - data: A dictionary where keys represent categories and values represent corresponding counts.\n",
    "\n",
    "    Example:\n",
    "    data = {'Category1': 20, 'Category2': 35, 'Category3': 15}\n",
    "    create_bar_chart(data)\n",
    "    \"\"\"\n",
    "    categories = list(top_10_data.keys())\n",
    "    values = list(top_10_data.values())\n",
    "\n",
    "    plt.bar(categories, values, color='skyblue')\n",
    "    plt.xlabel('Channel')\n",
    "    plt.ylabel('Counts')\n",
    "    plt.title('Bar Chart for Object Data')\n",
    "    plt.show()\n",
    "\n",
    "create_bar_chart_channel()\n"
   ]
  },
  {
   "cell_type": "markdown",
   "metadata": {
    "id": "ZxCn6yYkb3hA"
   },
   "source": [
    "From above bar chart analysis, we can see that, the channels that has been broadcasted more number of news topics, they are The bbbc news channel with above 14% per day channels, followed by google with 12% and then we can see that, La channel that has provided 3% of broadcasting topics over their channels. At last, we can see that, FOX, CNN, ESPN, MTV, with 2% of braodcasting only. Here, these are only top 10% of data that we have provided, there can be more least number of dat news channels possible."
   ]
  },
  {
   "cell_type": "markdown",
   "metadata": {
    "id": "L3nukX-QcfKW"
   },
   "source": [
    "Here, for the code part, first I have separated our text into tokens and then for each token, got the frequency count and then sorted the dict data based on the frequency values in descending order and took only top 10% of the data and plot the bar graph for the data to analyse."
   ]
  },
  {
   "cell_type": "code",
   "execution_count": null,
   "metadata": {
    "id": "vCcLXG9UasME"
   },
   "outputs": [],
   "source": []
  }
 ],
 "metadata": {
  "colab": {
   "provenance": []
  },
  "kernelspec": {
   "display_name": "Python 3 (ipykernel)",
   "language": "python",
   "name": "python3"
  },
  "language_info": {
   "codemirror_mode": {
    "name": "ipython",
    "version": 3
   },
   "file_extension": ".py",
   "mimetype": "text/x-python",
   "name": "python",
   "nbconvert_exporter": "python",
   "pygments_lexer": "ipython3",
   "version": "3.11.4"
  }
 },
 "nbformat": 4,
 "nbformat_minor": 1
}
